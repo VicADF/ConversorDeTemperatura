{
  "nbformat": 4,
  "nbformat_minor": 0,
  "metadata": {
    "colab": {
      "provenance": [],
      "authorship_tag": "ABX9TyNXyLh22AfTBzTurmCdxI/t",
      "include_colab_link": true
    },
    "kernelspec": {
      "name": "python3",
      "display_name": "Python 3"
    },
    "language_info": {
      "name": "python"
    }
  },
  "cells": [
    {
      "cell_type": "markdown",
      "metadata": {
        "id": "view-in-github",
        "colab_type": "text"
      },
      "source": [
        "<a href=\"https://colab.research.google.com/github/VicADF/ConversorDeTemperatura/blob/main/Converter_Celsius_para_Fahrenheirt.ipynb\" target=\"_parent\"><img src=\"https://colab.research.google.com/assets/colab-badge.svg\" alt=\"Open In Colab\"/></a>"
      ]
    },
    {
      "cell_type": "code",
      "execution_count": null,
      "metadata": {
        "colab": {
          "base_uri": "https://localhost:8080/"
        },
        "id": "jTmoui0QhLXz",
        "outputId": "e03e3962-022e-4735-867a-f7fb39725f7d"
      },
      "outputs": [
        {
          "output_type": "stream",
          "name": "stdout",
          "text": [
            " Pressione C para converter Celsius em Fahrenheit ou F para converter Fahrenheit em Celsius C\n",
            " Qual o valor da temperatura? 0\n",
            "0 convertido em Fahrenheit é 32.0\n"
          ]
        }
      ],
      "source": [
        "resposta = input(\" Pressione C para converter Celsius em Fahrenheit ou F para converter Fahrenheit em Celsius \")\n",
        "valor_temperatura = input(\" Qual o valor da temperatura? \")\n",
        "\n",
        "if resposta == 'C':\n",
        "  F = (float (valor_temperatura) * 1.8) + 32\n",
        "  print(valor_temperatura + \" convertido em Fahrenheit é \" + str(F))\n",
        "      \n",
        "if resposta == 'F':\n",
        "  C = (float(valor_temperatura) - 32) / 1.8\n",
        "  print(valor_temperatura + \" convertido em Celsius é \" + str(C))"
      ]
    }
  ]
}